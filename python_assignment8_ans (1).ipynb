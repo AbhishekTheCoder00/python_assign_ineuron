{
 "cells": [
  {
   "cell_type": "markdown",
   "id": "b47c7d88-c819-452d-be73-8ca8836ba92b",
   "metadata": {
    "tags": []
   },
   "source": [
    "Python Basic Programming Assignment 8"
   ]
  },
  {
   "cell_type": "markdown",
   "id": "6ba6875f-492c-4599-9df4-c17abc7b86d8",
   "metadata": {},
   "source": [
    "1. Write a Python Program to Add Two Matrices?"
   ]
  },
  {
   "cell_type": "code",
   "execution_count": 2,
   "id": "5b99a95e-0933-4cb7-ab9a-d139bb9d6d88",
   "metadata": {
    "tags": []
   },
   "outputs": [
    {
     "name": "stdout",
     "output_type": "stream",
     "text": [
      "[10, 9, 11]\n",
      "[9, 14, 7]\n",
      "[12, 11, 10]\n"
     ]
    }
   ],
   "source": [
    "def add_matrices(matrix1, matrix2):\n",
    "    if len(matrix1) != len(matrix2) or len(matrix1[0]) != len(matrix2[0]):\n",
    "        return \"Matrices must have the same dimensions\"\n",
    "    \n",
    "    result = []\n",
    "    for i in range(len(matrix1)):\n",
    "        row = []\n",
    "        for j in range(len(matrix1[0])):\n",
    "            row.append(matrix1[i][j] + matrix2[i][j])\n",
    "        result.append(row)\n",
    "    \n",
    "    return result\n",
    "\n",
    "# Example matrices\n",
    "matrix1 = [[1, 2, 3], [4, 5, 6], [7, 8, 9]]\n",
    "matrix2 = [[9, 7, 8], [5, 9, 1], [5, 3, 1]]\n",
    "\n",
    "result_matrix = add_matrices(matrix1, matrix2)\n",
    "for row in result_matrix:\n",
    "    print(row)\n",
    "\n",
    "    "
   ]
  },
  {
   "cell_type": "markdown",
   "id": "dbee0bf5-255d-4567-95a3-4a48e6c4d843",
   "metadata": {},
   "source": [
    "2. Write a Python Program to Multiply Two Matrices?"
   ]
  },
  {
   "cell_type": "code",
   "execution_count": 4,
   "id": "8036cad2-13b6-4f3f-9cf5-d90f374625c9",
   "metadata": {
    "tags": []
   },
   "outputs": [
    {
     "name": "stdout",
     "output_type": "stream",
     "text": [
      "[34, 34, 13]\n",
      "[91, 91, 43]\n",
      "[148, 148, 73]\n"
     ]
    }
   ],
   "source": [
    "def multiply_matrices(matrix1, matrix2):\n",
    "    if len(matrix1[0]) != len(matrix2):\n",
    "        return \"Invalid dimensions for matrix multiplication\"\n",
    "    \n",
    "    result = []\n",
    "    for i in range(len(matrix1)):\n",
    "        row = []\n",
    "        for j in range(len(matrix2[0])):\n",
    "            cell = 0\n",
    "            for k in range(len(matrix2)):\n",
    "                cell += matrix1[i][k] * matrix2[k][j]\n",
    "            row.append(cell)\n",
    "        result.append(row)\n",
    "    \n",
    "    return result\n",
    "\n",
    "# Example matrices\n",
    "matrix1 = [[1, 2, 3], [4, 5, 6], [7, 8, 9]]\n",
    "matrix2 = [[9, 7, 8], [5, 9, 1], [5, 3, 1]]\n",
    "\n",
    "result_matrix = multiply_matrices(matrix1, matrix2)\n",
    "for row in result_matrix:\n",
    "    print(row)\n"
   ]
  },
  {
   "cell_type": "markdown",
   "id": "a3f780ee-c074-4932-9c79-9bb635c0efee",
   "metadata": {},
   "source": [
    "3. Write a Python Program to Transpose a Matrix?"
   ]
  },
  {
   "cell_type": "code",
   "execution_count": 7,
   "id": "c18f430f-b885-4d30-84e3-215f738b9207",
   "metadata": {
    "tags": []
   },
   "outputs": [
    {
     "name": "stdout",
     "output_type": "stream",
     "text": [
      "[1, 4, 7]\n",
      "[2, 5, 8]\n",
      "[3, 6, 9]\n"
     ]
    }
   ],
   "source": [
    "def transpose_matrix(matrix):\n",
    "    rows = len(matrix)\n",
    "    cols = len(matrix[0])\n",
    "    \n",
    "    transposed = []\n",
    "    for i in range(cols):\n",
    "        transposed_row = []\n",
    "        for j in range(rows):\n",
    "            transposed_row.append(matrix[j][i])\n",
    "        transposed.append(transposed_row)\n",
    "    \n",
    "    return transposed\n",
    "\n",
    "# Example matrix\n",
    "matrix = [[1, 2, 3], [4, 5, 6], [7, 8, 9]]\n",
    "\n",
    "transposed_matrix = transpose_matrix(matrix)\n",
    "for row in transposed_matrix:\n",
    "    print(row)\n"
   ]
  },
  {
   "cell_type": "markdown",
   "id": "9006be58-6dda-4aed-8a2a-9655ea51cacd",
   "metadata": {},
   "source": [
    "4. Write a Python Program to Sort Words in Alphabetic Order?"
   ]
  },
  {
   "cell_type": "code",
   "execution_count": 9,
   "id": "ea4208f2-e9af-47fd-a4ed-72b35d2a4095",
   "metadata": {
    "tags": []
   },
   "outputs": [
    {
     "name": "stdout",
     "output_type": "stream",
     "text": [
      "Sorted Words ['apple', 'banana', 'cherry', 'grape', 'orange']\n"
     ]
    }
   ],
   "source": [
    "word_list = [\"apple\", \"banana\", \"grape\", \"orange\", \"cherry\"]\n",
    "word_list.sort()\n",
    "print(\"Sorted Words\",word_list)\n"
   ]
  },
  {
   "cell_type": "markdown",
   "id": "2a94cfeb-ef8f-49a0-8be7-ae64a30ce7fa",
   "metadata": {},
   "source": [
    "5. Write a Python Program to Remove Punctuation From a String?"
   ]
  },
  {
   "cell_type": "code",
   "execution_count": 12,
   "id": "87dd84fa-e80d-442e-93d5-35a25cfee151",
   "metadata": {
    "tags": []
   },
   "outputs": [
    {
     "name": "stdout",
     "output_type": "stream",
     "text": [
      "String without punctuation: Hello What is your name\n"
     ]
    }
   ],
   "source": [
    "def remove_punctuation(input_string):\n",
    "    punctuation = '''!\"#$%&'()*+,-./:;<=>?@[\\]^_`{|}~'''\n",
    "    no_punct = \"\"\n",
    "    \n",
    "    for char in input_string:\n",
    "        if char not in punctuation:\n",
    "            no_punct += char\n",
    "            \n",
    "    return no_punct\n",
    "\n",
    "input_string = \"!!&&Hello, What is your name?&&!!\"\n",
    "\n",
    "result = remove_punctuation(input_string)\n",
    "print(\"String without punctuation:\", result)"
   ]
  },
  {
   "cell_type": "code",
   "execution_count": null,
   "id": "d33d5cf6-3416-4e76-b282-6a9b53371e1e",
   "metadata": {},
   "outputs": [],
   "source": []
  }
 ],
 "metadata": {
  "kernelspec": {
   "display_name": "Python 3 (ipykernel)",
   "language": "python",
   "name": "python3"
  },
  "language_info": {
   "codemirror_mode": {
    "name": "ipython",
    "version": 3
   },
   "file_extension": ".py",
   "mimetype": "text/x-python",
   "name": "python",
   "nbconvert_exporter": "python",
   "pygments_lexer": "ipython3",
   "version": "3.11.0"
  }
 },
 "nbformat": 4,
 "nbformat_minor": 5
}
