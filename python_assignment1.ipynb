{
 "cells": [
  {
   "cell_type": "markdown",
   "id": "cb9c3346-60cb-47a9-8d32-47f4d934e7ed",
   "metadata": {
    "tags": []
   },
   "source": [
    "##programing assignment"
   ]
  },
  {
   "cell_type": "markdown",
   "id": "46303319-eb3f-4a23-bda8-d11ec1d92d42",
   "metadata": {},
   "source": [
    "1. Write a Python program to print \"Hello Python\"?"
   ]
  },
  {
   "cell_type": "code",
   "execution_count": null,
   "id": "f82aa5ff-ba09-4cb8-8291-9af5e5df499b",
   "metadata": {},
   "outputs": [],
   "source": [
    "print(\"Hello python\")"
   ]
  },
  {
   "cell_type": "markdown",
   "id": "22971071-9f01-46ae-9c53-72eb00096ce6",
   "metadata": {},
   "source": [
    "2. Write a Python program to do arithmetical operations addition and division.?"
   ]
  },
  {
   "cell_type": "code",
   "execution_count": 2,
   "id": "75c5cfb5-da90-4767-9f6b-0ce0a3b78f01",
   "metadata": {
    "tags": []
   },
   "outputs": [
    {
     "name": "stdout",
     "output_type": "stream",
     "text": [
      "18\n",
      "2.0\n"
     ]
    }
   ],
   "source": [
    "x = 12\n",
    "y = 6\n",
    "\n",
    "addition = x+y\n",
    "division = x/y\n",
    "\n",
    "print(addition)\n",
    "print(division)"
   ]
  },
  {
   "cell_type": "markdown",
   "id": "08b2cb0b-977c-48e0-bb20-e4e314ca42b1",
   "metadata": {},
   "source": [
    "Write a Python program to find the area of a triangle?"
   ]
  },
  {
   "cell_type": "code",
   "execution_count": 3,
   "id": "d9ab9d24-82a3-40df-92e2-480382fcb049",
   "metadata": {
    "tags": []
   },
   "outputs": [
    {
     "name": "stdout",
     "output_type": "stream",
     "text": [
      "225.0\n"
     ]
    }
   ],
   "source": [
    "base = 45\n",
    "height = 10\n",
    "\n",
    "area = (base*height)/2\n",
    "print(area)"
   ]
  },
  {
   "cell_type": "markdown",
   "id": "59a3f258-de1e-4323-b794-1205b77fc239",
   "metadata": {
    "tags": []
   },
   "source": [
    "Write a Python program to swap two variables?"
   ]
  },
  {
   "cell_type": "code",
   "execution_count": 6,
   "id": "4f344c72-8449-4559-b929-493b5ffe986a",
   "metadata": {
    "tags": []
   },
   "outputs": [
    {
     "name": "stdout",
     "output_type": "stream",
     "text": [
      "Before swap:\n",
      "var1 = 425 and var2 = 698\n",
      "\n",
      "After swap:\n",
      "var1 = 698 and var2 = 425\n"
     ]
    }
   ],
   "source": [
    "var1 = 425\n",
    "var2 = 698\n",
    "\n",
    "print('Before swap:\\nvar1 = {} and var2 = {}'.format(var1, var2))\n",
    "\n",
    "temp = var1\n",
    "var1 = var2\n",
    "var2 = temp\n",
    "print('\\nAfter swap:\\nvar1 = {} and var2 = {}'.format(var1, var2))"
   ]
  },
  {
   "cell_type": "markdown",
   "id": "53226bfe-3ece-4911-8263-ffbd70a111b4",
   "metadata": {},
   "source": [
    "Write a Python program to generate a random number?"
   ]
  },
  {
   "cell_type": "code",
   "execution_count": 7,
   "id": "e866f1db-6b9f-409c-9bb2-81df1e98016c",
   "metadata": {
    "tags": []
   },
   "outputs": [
    {
     "name": "stdout",
     "output_type": "stream",
     "text": [
      "0.7529703191950332\n"
     ]
    }
   ],
   "source": [
    "import random\n",
    "print(random.random())"
   ]
  },
  {
   "cell_type": "code",
   "execution_count": null,
   "id": "b9c934ab-2de7-4651-b133-3d0361cd6b47",
   "metadata": {},
   "outputs": [],
   "source": []
  }
 ],
 "metadata": {
  "kernelspec": {
   "display_name": "Python 3 (ipykernel)",
   "language": "python",
   "name": "python3"
  },
  "language_info": {
   "codemirror_mode": {
    "name": "ipython",
    "version": 3
   },
   "file_extension": ".py",
   "mimetype": "text/x-python",
   "name": "python",
   "nbconvert_exporter": "python",
   "pygments_lexer": "ipython3",
   "version": "3.11.0"
  }
 },
 "nbformat": 4,
 "nbformat_minor": 5
}
