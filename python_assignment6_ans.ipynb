{
 "cells": [
  {
   "cell_type": "markdown",
   "id": "8a5d4b13-b652-4d72-8b70-72d993ca1c54",
   "metadata": {},
   "source": [
    "#Programming Basic Assignment 6"
   ]
  },
  {
   "cell_type": "markdown",
   "id": "1359bfe4-39c9-4827-8be5-adb21af11835",
   "metadata": {},
   "source": [
    "1. Write a Python Program to Display Fibonacci Sequence Using Recursion?"
   ]
  },
  {
   "cell_type": "code",
   "execution_count": 5,
   "id": "48734d49-123d-4e60-ae53-55cf65e9959c",
   "metadata": {
    "tags": []
   },
   "outputs": [
    {
     "name": "stdin",
     "output_type": "stream",
     "text": [
      "Enter the nth term: 10\n"
     ]
    },
    {
     "name": "stdout",
     "output_type": "stream",
     "text": [
      "Fibonacci series:\n",
      "0\n",
      "1\n",
      "1\n",
      "2\n",
      "3\n",
      "5\n",
      "8\n",
      "13\n",
      "21\n",
      "34\n"
     ]
    }
   ],
   "source": [
    "def fibo(n):\n",
    "    if n<=1:\n",
    "        return n\n",
    "    else:\n",
    "        return fibo(n-1)+fibo(n-2)\n",
    "    \n",
    "n = int(input(\"Enter the nth term:\"))\n",
    "if n <= 0:\n",
    "    print(\"Enter the Positive Number:\")\n",
    "else:\n",
    "    print(\"Fibonacci series:\")\n",
    "    for i in range(n):\n",
    "        print(fibo(i))"
   ]
  },
  {
   "cell_type": "markdown",
   "id": "234d7e67-21bb-48eb-9ea1-caaac6adf959",
   "metadata": {},
   "source": [
    "2. Write a Python Program to Find Factorial of Number Using Recursion?"
   ]
  },
  {
   "cell_type": "code",
   "execution_count": 9,
   "id": "014bf946-aa50-43e5-9331-0093ef4e4817",
   "metadata": {
    "tags": []
   },
   "outputs": [
    {
     "name": "stdin",
     "output_type": "stream",
     "text": [
      "Enter your number: 5\n"
     ]
    },
    {
     "name": "stdout",
     "output_type": "stream",
     "text": [
      "120\n"
     ]
    }
   ],
   "source": [
    "def fact(n):\n",
    "    if n==0 or n==1:\n",
    "        return 1\n",
    "    else:\n",
    "        return n * fact(n-1)\n",
    "\n",
    "num = int(input(\"Enter your number:\"))\n",
    "print(fact(num))"
   ]
  },
  {
   "cell_type": "markdown",
   "id": "6dd4f033-e2be-421a-bc67-52760b285edb",
   "metadata": {},
   "source": [
    "3. Write a Python Program to calculate your Body Mass Index?"
   ]
  },
  {
   "cell_type": "code",
   "execution_count": 11,
   "id": "4a394fa0-0382-403e-9553-230372b58f3a",
   "metadata": {
    "tags": []
   },
   "outputs": [
    {
     "name": "stdin",
     "output_type": "stream",
     "text": [
      "Enter your Height: 168\n",
      "Enter your Width 73\n"
     ]
    },
    {
     "name": "stdout",
     "output_type": "stream",
     "text": [
      "Your BMI is: 0.002586451247165533\n"
     ]
    }
   ],
   "source": [
    "height = int(input(\"Enter your Height:\"))\n",
    "width = int(input(\"Enter your Width\"))\n",
    "\n",
    "BMI = width / (height*height)\n",
    "\n",
    "print(\"Your BMI is:\",BMI)"
   ]
  },
  {
   "cell_type": "markdown",
   "id": "92d51071-d559-4550-9f66-7e0e01c95b1d",
   "metadata": {},
   "source": [
    "4. Write a Python Program to calculate the natural logarithm of any number?"
   ]
  },
  {
   "cell_type": "code",
   "execution_count": 12,
   "id": "0a038d93-4f9a-41e6-9997-1b583f59c8cc",
   "metadata": {
    "tags": []
   },
   "outputs": [
    {
     "name": "stdin",
     "output_type": "stream",
     "text": [
      "Enter the number:  12\n"
     ]
    },
    {
     "name": "stdout",
     "output_type": "stream",
     "text": [
      "The value is: 2.4849066497880004\n"
     ]
    }
   ],
   "source": [
    "import math\n",
    "number = int(input(\"Enter the number: \"))\n",
    "ans = math.log(number)\n",
    "print(\"The value is:\",ans)"
   ]
  },
  {
   "cell_type": "markdown",
   "id": "93f9bb3c-8b6f-4cac-8f09-3505e437e39a",
   "metadata": {},
   "source": [
    "5. Write a Python Program for cube sum of first n natural numbers?"
   ]
  },
  {
   "cell_type": "code",
   "execution_count": 15,
   "id": "55e76c6c-187b-4e2c-b925-653590dcb20e",
   "metadata": {
    "tags": []
   },
   "outputs": [
    {
     "name": "stdin",
     "output_type": "stream",
     "text": [
      "Enter your number: 5\n"
     ]
    },
    {
     "name": "stdout",
     "output_type": "stream",
     "text": [
      "sum of cubes of first 5 natural numbers:  225\n"
     ]
    }
   ],
   "source": [
    "def sumcube(n):\n",
    "    result=0\n",
    "    for i in range(n+1):\n",
    "        result+=i**3\n",
    "    return result\n",
    "    \n",
    "num = int(input(\"Enter your number:\"))\n",
    "print(\"sum of cubes of first {} natural numbers: \".format(num),sumcube(num))"
   ]
  },
  {
   "cell_type": "code",
   "execution_count": null,
   "id": "6b70c615-36e1-4c56-b9ae-283a19f122a6",
   "metadata": {},
   "outputs": [],
   "source": []
  }
 ],
 "metadata": {
  "kernelspec": {
   "display_name": "Python 3 (ipykernel)",
   "language": "python",
   "name": "python3"
  },
  "language_info": {
   "codemirror_mode": {
    "name": "ipython",
    "version": 3
   },
   "file_extension": ".py",
   "mimetype": "text/x-python",
   "name": "python",
   "nbconvert_exporter": "python",
   "pygments_lexer": "ipython3",
   "version": "3.11.0"
  }
 },
 "nbformat": 4,
 "nbformat_minor": 5
}
