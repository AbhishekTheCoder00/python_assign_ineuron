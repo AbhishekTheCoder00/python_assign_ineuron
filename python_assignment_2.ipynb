{
 "cells": [
  {
   "cell_type": "markdown",
   "id": "5f46aa57-7ca1-477d-a5d1-1b1d926c53e5",
   "metadata": {},
   "source": [
    "##Programming Assignment_2"
   ]
  },
  {
   "cell_type": "markdown",
   "id": "347cfd2e-ea5d-450d-b024-80bb037b75e5",
   "metadata": {},
   "source": [
    "1. Write a Python program to convert kilometers to miles?\n",
    "\n"
   ]
  },
  {
   "cell_type": "code",
   "execution_count": 1,
   "id": "f41e7fe7-2bab-4dd8-b279-da450aa3600a",
   "metadata": {
    "tags": []
   },
   "outputs": [
    {
     "name": "stdin",
     "output_type": "stream",
     "text": [
      "Enter distance in kilometers:  12\n"
     ]
    },
    {
     "name": "stdout",
     "output_type": "stream",
     "text": [
      "12.0 kilometers is equal to 7.4564520000000005 miles\n"
     ]
    }
   ],
   "source": [
    "def km_to_miles(kilometers):\n",
    "    miles = kilometers * 0.621371\n",
    "    return miles\n",
    "\n",
    "kilometers = float(input(\"Enter distance in kilometers: \"))\n",
    "miles = km_to_miles(kilometers)\n",
    "print(f\"{kilometers} kilometers is equal to {miles} miles\")\n"
   ]
  },
  {
   "cell_type": "markdown",
   "id": "b948d43a-c0ee-464e-9859-a22d8d3925ed",
   "metadata": {},
   "source": [
    "2.Write a Python program to convert Celsius to Fahrenheit?"
   ]
  },
  {
   "cell_type": "code",
   "execution_count": 2,
   "id": "9810fee3-2ad8-4375-85b7-2f2529c4271c",
   "metadata": {
    "tags": []
   },
   "outputs": [
    {
     "name": "stdin",
     "output_type": "stream",
     "text": [
      "Enter temperature in Celsius:  120\n"
     ]
    },
    {
     "name": "stdout",
     "output_type": "stream",
     "text": [
      "120.0 Celsius is equal to 248.0 Fahrenheit\n"
     ]
    }
   ],
   "source": [
    "def celsius_to_fahrenheit(celsius):\n",
    "    fahrenheit = (celsius * 9/5) + 32\n",
    "    return fahrenheit\n",
    "\n",
    "celsius = float(input(\"Enter temperature in Celsius: \"))\n",
    "fahrenheit = celsius_to_fahrenheit(celsius)\n",
    "print(f\"{celsius} Celsius is equal to {fahrenheit} Fahrenheit\")\n"
   ]
  },
  {
   "cell_type": "markdown",
   "id": "94949783-7800-4b55-b478-223f2fb176eb",
   "metadata": {},
   "source": [
    "3. Write a Python program to display calendar?"
   ]
  },
  {
   "cell_type": "code",
   "execution_count": 3,
   "id": "6665954f-6b7e-4fb7-8fa2-a09717adc286",
   "metadata": {
    "tags": []
   },
   "outputs": [
    {
     "name": "stdin",
     "output_type": "stream",
     "text": [
      "Enter year:  2021\n",
      "Enter month:  5\n"
     ]
    },
    {
     "name": "stdout",
     "output_type": "stream",
     "text": [
      "Calendar for May 2021:\n",
      "      May 2021\n",
      "Mo Tu We Th Fr Sa Su\n",
      "                1  2\n",
      " 3  4  5  6  7  8  9\n",
      "10 11 12 13 14 15 16\n",
      "17 18 19 20 21 22 23\n",
      "24 25 26 27 28 29 30\n",
      "31\n",
      "\n"
     ]
    }
   ],
   "source": [
    "import calendar\n",
    "\n",
    "year = int(input(\"Enter year: \"))\n",
    "month = int(input(\"Enter month: \"))\n",
    "\n",
    "cal = calendar.month(year, month)\n",
    "print(f\"Calendar for {calendar.month_name[month]} {year}:\\n{cal}\")\n"
   ]
  },
  {
   "cell_type": "markdown",
   "id": "1e90d5bd-31b4-4289-a19c-093528c99221",
   "metadata": {},
   "source": [
    "4. Write a Python program to solve quadratic equation?"
   ]
  },
  {
   "cell_type": "code",
   "execution_count": 4,
   "id": "cbbb60ed-c4ab-4b2b-a44c-5d87fc3005ab",
   "metadata": {
    "tags": []
   },
   "outputs": [
    {
     "name": "stdout",
     "output_type": "stream",
     "text": [
      "The roots of the quadratic equation are: (2+0j) and (1+0j)\n"
     ]
    }
   ],
   "source": [
    "import cmath\n",
    "\n",
    "def solve_quadratic(a, b, c):\n",
    "    discriminant = cmath.sqrt(b**2 - 4*a*c)\n",
    "    root1 = (-b + discriminant) / (2*a)\n",
    "    root2 = (-b - discriminant) / (2*a)\n",
    "    return root1, root2\n",
    "\n",
    "a = 1 \n",
    "b = -3\n",
    "c = 2\n",
    "\n",
    "root1, root2 = solve_quadratic(a, b, c)\n",
    "print(f\"The roots of the quadratic equation are: {root1} and {root2}\")\n"
   ]
  },
  {
   "cell_type": "markdown",
   "id": "8e4ff251-a668-4be9-a379-c9209deff73b",
   "metadata": {},
   "source": [
    "5. Write a Python program to swap two variables without temp variable?"
   ]
  },
  {
   "cell_type": "code",
   "execution_count": 5,
   "id": "135acad0-f326-43be-93f6-259436985b4f",
   "metadata": {
    "tags": []
   },
   "outputs": [
    {
     "name": "stdout",
     "output_type": "stream",
     "text": [
      "After swapping: First number = 10, Second number = 5\n"
     ]
    }
   ],
   "source": [
    "def swap_without_temp(a, b):\n",
    "    a = a + b\n",
    "    b = a - b\n",
    "    a = a - b\n",
    "    return a, b\n",
    "\n",
    "num1 = 5  # Example values\n",
    "num2 = 10\n",
    "\n",
    "num1, num2 = swap_without_temp(num1, num2)\n",
    "print(f\"After swapping: First number = {num1}, Second number = {num2}\")\n"
   ]
  },
  {
   "cell_type": "code",
   "execution_count": null,
   "id": "4c6804fd-c5b2-40a6-9598-25ee36ca6708",
   "metadata": {},
   "outputs": [],
   "source": []
  }
 ],
 "metadata": {
  "kernelspec": {
   "display_name": "Python 3 (ipykernel)",
   "language": "python",
   "name": "python3"
  },
  "language_info": {
   "codemirror_mode": {
    "name": "ipython",
    "version": 3
   },
   "file_extension": ".py",
   "mimetype": "text/x-python",
   "name": "python",
   "nbconvert_exporter": "python",
   "pygments_lexer": "ipython3",
   "version": "3.11.0"
  }
 },
 "nbformat": 4,
 "nbformat_minor": 5
}
