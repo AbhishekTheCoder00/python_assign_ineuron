{
 "cells": [
  {
   "cell_type": "markdown",
   "id": "fd54556e-dd35-4283-ad44-8a1b0f053450",
   "metadata": {
    "tags": []
   },
   "source": [
    "##Programming Basic Assignment 7"
   ]
  },
  {
   "cell_type": "markdown",
   "id": "f762607b-e67d-41af-93df-3d69a2db6184",
   "metadata": {},
   "source": [
    "1. Write a Python Program to Add Two Matrices?"
   ]
  },
  {
   "cell_type": "code",
   "execution_count": 7,
   "id": "afddd0a2-1479-40d6-be87-7f5d65512af3",
   "metadata": {
    "tags": []
   },
   "outputs": [
    {
     "name": "stdout",
     "output_type": "stream",
     "text": [
      "The array is {1, 98, 163, 25, 45}\n",
      "sum of array 332\n"
     ]
    }
   ],
   "source": [
    "arr = {25,45,1,98,163}\n",
    "\n",
    "ans=0\n",
    "for i in arr:\n",
    "    ans += i\n",
    "\n",
    "print(\"The array is\",arr)\n",
    "print(\"sum of array\",ans)"
   ]
  },
  {
   "cell_type": "markdown",
   "id": "48672c21-4823-4492-95e1-a3d1d352a719",
   "metadata": {},
   "source": [
    "2. Write a Python Program to find largest element in an array?"
   ]
  },
  {
   "cell_type": "code",
   "execution_count": 16,
   "id": "5e65fd50-c8cf-402d-803a-d1b4751bb590",
   "metadata": {
    "tags": []
   },
   "outputs": [
    {
     "name": "stdout",
     "output_type": "stream",
     "text": [
      "The array is: {48, 86, 1686, 56, 1325, 445}\n",
      "The largest elemment 1686\n"
     ]
    }
   ],
   "source": [
    "arr = {56,86,445,1686,1325,48}\n",
    "arrmax = float('-inf')\n",
    "\n",
    "for i in arr:\n",
    "    if i > arrmax:\n",
    "        arrmax = i\n",
    "\n",
    "print(\"The array is:\", arr)\n",
    "print(\"The largest elemment\",arrmax)"
   ]
  },
  {
   "cell_type": "markdown",
   "id": "7468fcd1-424c-432b-848e-bd10e3439fb3",
   "metadata": {},
   "source": [
    "3. Write a Python Program for array rotation?"
   ]
  },
  {
   "cell_type": "code",
   "execution_count": 19,
   "id": "319cacd7-0d9d-4e1b-bb4d-8dce594e5f5d",
   "metadata": {
    "tags": []
   },
   "outputs": [
    {
     "name": "stdout",
     "output_type": "stream",
     "text": [
      "Rotated array:\n",
      "[22, 1623, 1666, 66, 36, 56, 71, 96, 85]\n"
     ]
    }
   ],
   "source": [
    "arr = [85,96,71,56,36,66,1666,1623,22]\n",
    "\n",
    "reversed_arr = arr[::-1]\n",
    "\n",
    "print(\"Rotated array:\")\n",
    "print(reversed_arr)"
   ]
  },
  {
   "cell_type": "markdown",
   "id": "23cc1cbd-37fd-4b15-9cac-e94d61263dc6",
   "metadata": {},
   "source": [
    "4. Write a Python Program to Split the array and add the first part to the end?"
   ]
  },
  {
   "cell_type": "code",
   "execution_count": 24,
   "id": "b9030108-5ffd-445d-9265-843b94c3c8a5",
   "metadata": {
    "tags": []
   },
   "outputs": [
    {
     "name": "stdout",
     "output_type": "stream",
     "text": [
      "Original array: [1, 2, 3, 4, 5, 6, 7]\n",
      "Rotated array: [3, 4, 5, 6, 7, 1, 2]\n"
     ]
    }
   ],
   "source": [
    "def split_and_add(arr, split_index):\n",
    "    if split_index < 0 or split_index >= len(arr):\n",
    "        return \"Invalid split index\"\n",
    "    \n",
    "    first_part = arr[:split_index]\n",
    "    second_part = arr[split_index:]\n",
    "    rotated_array = second_part + first_part\n",
    "    return rotated_array\n",
    "    \n",
    "arr = [1, 2, 3, 4, 5, 6, 7]    \n",
    "split_index = 2  # Index at which to split the array\n",
    "\n",
    "rotated = split_and_add(arr, split_index)\n",
    "print(\"Original array:\", arr)\n",
    "print(\"Rotated array:\", rotated)"
   ]
  },
  {
   "cell_type": "markdown",
   "id": "6636dce6-4b15-4964-9a49-2d8009308e0c",
   "metadata": {},
   "source": [
    "5. Write a Python Program to check if given array is Monotonic?"
   ]
  },
  {
   "cell_type": "code",
   "execution_count": 29,
   "id": "6c3837f0-5f18-4a1d-910d-cfb301d58d5a",
   "metadata": {
    "tags": []
   },
   "outputs": [
    {
     "name": "stdout",
     "output_type": "stream",
     "text": [
      "True\n",
      "True\n",
      "False\n"
     ]
    }
   ],
   "source": [
    "def is_monotonic(arr):\n",
    "    increase = decrease = True\n",
    "    \n",
    "    for i in range(1,len(arr)):\n",
    "        if arr[i]>arr[i-1]:\n",
    "            decrease = False\n",
    "        elif arr[i] < arr[i-1]:\n",
    "            increase = False\n",
    "    return increase or decrease\n",
    "            \n",
    "arr1=[1,2,3,4,5,6]\n",
    "arr2=[6,5,4,3,2,1]\n",
    "arr3=[1,5,3,6,2,4]\n",
    "\n",
    "            \n",
    "print(is_monotonic(arr1))\n",
    "print(is_monotonic(arr2))\n",
    "print(is_monotonic(arr3))"
   ]
  },
  {
   "cell_type": "code",
   "execution_count": null,
   "id": "9942817a-f976-458f-866d-abf2386c62af",
   "metadata": {},
   "outputs": [],
   "source": []
  }
 ],
 "metadata": {
  "kernelspec": {
   "display_name": "Python 3 (ipykernel)",
   "language": "python",
   "name": "python3"
  },
  "language_info": {
   "codemirror_mode": {
    "name": "ipython",
    "version": 3
   },
   "file_extension": ".py",
   "mimetype": "text/x-python",
   "name": "python",
   "nbconvert_exporter": "python",
   "pygments_lexer": "ipython3",
   "version": "3.11.0"
  }
 },
 "nbformat": 4,
 "nbformat_minor": 5
}
