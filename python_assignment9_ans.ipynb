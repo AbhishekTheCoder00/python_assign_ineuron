{
 "cells": [
  {
   "cell_type": "markdown",
   "id": "30556f7b-3174-47be-aec4-a1f22db9b4b6",
   "metadata": {},
   "source": [
    "Programming Assignment_9"
   ]
  },
  {
   "cell_type": "markdown",
   "id": "b0d640ad-f381-42a3-826c-bf319e6d4c66",
   "metadata": {},
   "source": [
    "1. Write a Python program to check if the given number is a Disarium Number?"
   ]
  },
  {
   "cell_type": "code",
   "execution_count": 1,
   "id": "07aefca7-97a3-4b85-afb9-b3f35b9b17d9",
   "metadata": {
    "tags": []
   },
   "outputs": [
    {
     "name": "stdin",
     "output_type": "stream",
     "text": [
      "Enter a number:  89\n"
     ]
    },
    {
     "name": "stdout",
     "output_type": "stream",
     "text": [
      "89 is a Disarium number.\n"
     ]
    }
   ],
   "source": [
    "def is_disarium_number(n):\n",
    "    num_str = str(n)\n",
    "    length = len(num_str)\n",
    "    total = 0\n",
    "\n",
    "    for i, digit in enumerate(num_str):\n",
    "        total += int(digit) ** (i + 1)\n",
    "\n",
    "    return total == n\n",
    "\n",
    "# Input from the user\n",
    "num = int(input(\"Enter a number: \"))\n",
    "\n",
    "if is_disarium_number(num):\n",
    "    print(f\"{num} is a Disarium number.\")\n",
    "else:\n",
    "    print(f\"{num} is not a Disarium number.\")\n"
   ]
  },
  {
   "cell_type": "markdown",
   "id": "37e48fa3-8ebf-4755-9fb6-85e1c4835613",
   "metadata": {},
   "source": [
    "2. Write a Python program to print all disarium numbers between 1 to 100?"
   ]
  },
  {
   "cell_type": "code",
   "execution_count": 2,
   "id": "96fd8e6e-a5b8-473a-bf49-9b926a51715b",
   "metadata": {
    "tags": []
   },
   "outputs": [
    {
     "name": "stdout",
     "output_type": "stream",
     "text": [
      "Disarium numbers between 1 and 100:\n",
      "1\n",
      "2\n",
      "3\n",
      "4\n",
      "5\n",
      "6\n",
      "7\n",
      "8\n",
      "9\n",
      "89\n"
     ]
    }
   ],
   "source": [
    "def is_disarium_number(n):\n",
    "    num_str = str(n)\n",
    "    length = len(num_str)\n",
    "    total = 0\n",
    "\n",
    "    for i, digit in enumerate(num_str):\n",
    "        total += int(digit) ** (i + 1)\n",
    "\n",
    "    return total == n\n",
    "\n",
    "print(\"Disarium numbers between 1 and 100:\")\n",
    "\n",
    "for num in range(1, 101):\n",
    "    if is_disarium_number(num):\n",
    "        print(num)\n"
   ]
  },
  {
   "cell_type": "markdown",
   "id": "db8d27db-0b3a-49a1-95be-0e02291536c0",
   "metadata": {},
   "source": [
    "3. Write a Python program to check if the given number is Happy Number?"
   ]
  },
  {
   "cell_type": "code",
   "execution_count": 5,
   "id": "7cd51681-0903-4a9d-b984-73af3c776e63",
   "metadata": {
    "tags": []
   },
   "outputs": [
    {
     "name": "stdin",
     "output_type": "stream",
     "text": [
      "Enter a number:  23\n"
     ]
    },
    {
     "name": "stdout",
     "output_type": "stream",
     "text": [
      "23 is a Happy Number.\n"
     ]
    }
   ],
   "source": [
    "def is_happy_number(n):\n",
    "    def get_next(num):\n",
    "        total = 0\n",
    "        while num > 0:\n",
    "            digit = num % 10\n",
    "            total += digit ** 2\n",
    "            num //= 10\n",
    "        return total\n",
    "\n",
    "    seen = set()\n",
    "    while n != 1 and n not in seen:\n",
    "        seen.add(n)\n",
    "        n = get_next(n)\n",
    "\n",
    "    return n == 1\n",
    "\n",
    "# Input from the user\n",
    "num = int(input(\"Enter a number: \"))\n",
    "\n",
    "if is_happy_number(num):\n",
    "    print(f\"{num} is a Happy Number.\")\n",
    "else:\n",
    "    print(f\"{num} is not a Happy Number.\")\n"
   ]
  },
  {
   "cell_type": "markdown",
   "id": "d4965293-5258-46f5-8a6f-3269c4fab559",
   "metadata": {},
   "source": [
    "4. Write a Python program to print all happy numbers between 1 and 100?"
   ]
  },
  {
   "cell_type": "code",
   "execution_count": 6,
   "id": "3cd76dfd-be4f-450b-974f-d5b56b7f5fe9",
   "metadata": {
    "tags": []
   },
   "outputs": [
    {
     "name": "stdin",
     "output_type": "stream",
     "text": [
      "Enter an upper limit to generate Happy Numbers:  100\n"
     ]
    },
    {
     "name": "stdout",
     "output_type": "stream",
     "text": [
      "Happy Numbers up to 100:\n",
      "[1, 7, 10, 13, 19, 23, 28, 31, 32, 44, 49, 68, 70, 79, 82, 86, 91, 94, 97, 100]\n"
     ]
    }
   ],
   "source": [
    "def is_happy_number(n):\n",
    "    def get_next(num):\n",
    "        total = 0\n",
    "        while num > 0:\n",
    "            digit = num % 10\n",
    "            total += digit ** 2\n",
    "            num //= 10\n",
    "        return total\n",
    "\n",
    "    seen = set()\n",
    "    while n != 1 and n not in seen:\n",
    "        seen.add(n)\n",
    "        n = get_next(n)\n",
    "\n",
    "    return n == 1\n",
    "\n",
    "def generate_happy_numbers(limit):\n",
    "    happy_numbers = []\n",
    "    for num in range(1, limit + 1):\n",
    "        if is_happy_number(num):\n",
    "            happy_numbers.append(num)\n",
    "    return happy_numbers\n",
    "\n",
    "# Input from the user for the upper limit\n",
    "limit = int(input(\"Enter an upper limit to generate Happy Numbers: \"))\n",
    "\n",
    "happy_numbers = generate_happy_numbers(limit)\n",
    "\n",
    "print(f\"Happy Numbers up to {limit}:\")\n",
    "print(happy_numbers)\n"
   ]
  },
  {
   "cell_type": "markdown",
   "id": "a3a7c079-3021-4694-b5f6-45bcf4239efc",
   "metadata": {},
   "source": [
    "5. Write a Python program to determine whether the given number is a Harshad Number?"
   ]
  },
  {
   "cell_type": "code",
   "execution_count": 7,
   "id": "e3fecc19-16ce-4f1c-9340-bffffab6a092",
   "metadata": {
    "tags": []
   },
   "outputs": [
    {
     "name": "stdin",
     "output_type": "stream",
     "text": [
      "Enter a number:  45\n"
     ]
    },
    {
     "name": "stdout",
     "output_type": "stream",
     "text": [
      "45 is a Harshad Number.\n"
     ]
    }
   ],
   "source": [
    "def is_harshad_number(n):\n",
    "    # Calculate the sum of digits\n",
    "    sum_of_digits = sum(int(digit) for digit in str(n))\n",
    "    \n",
    "    # Check if the number is divisible by the sum of digits\n",
    "    return n % sum_of_digits == 0\n",
    "\n",
    "# Input from the user\n",
    "num = int(input(\"Enter a number: \"))\n",
    "\n",
    "if is_harshad_number(num):\n",
    "    print(f\"{num} is a Harshad Number.\")\n",
    "else:\n",
    "    print(f\"{num} is not a Harshad Number.\")\n"
   ]
  },
  {
   "cell_type": "markdown",
   "id": "f55804cd-a5b4-4ba1-9395-d00874751ed9",
   "metadata": {},
   "source": [
    "6. Write a Python program to print all pronic numbers between 1 and 100?"
   ]
  },
  {
   "cell_type": "code",
   "execution_count": 8,
   "id": "30c63865-7e93-4bb7-8d99-9ab9d02ed1a7",
   "metadata": {
    "tags": []
   },
   "outputs": [
    {
     "name": "stdout",
     "output_type": "stream",
     "text": [
      "Pronic numbers between 1 and 100:\n",
      "2\n",
      "6\n",
      "12\n",
      "20\n",
      "30\n",
      "42\n",
      "56\n",
      "72\n",
      "90\n"
     ]
    }
   ],
   "source": [
    "def is_pronic_number(n):\n",
    "    # Iterate through numbers from 1 to n\n",
    "    for i in range(1, n):\n",
    "        # Check if i*(i+1) equals n\n",
    "        if i * (i + 1) == n:\n",
    "            return True\n",
    "    return False\n",
    "\n",
    "print(\"Pronic numbers between 1 and 100:\")\n",
    "\n",
    "for num in range(1, 101):\n",
    "    if is_pronic_number(num):\n",
    "        print(num)\n"
   ]
  },
  {
   "cell_type": "code",
   "execution_count": null,
   "id": "a847211e-84ec-477d-92b6-09c1cfa00fdf",
   "metadata": {},
   "outputs": [],
   "source": []
  }
 ],
 "metadata": {
  "kernelspec": {
   "display_name": "Python 3 (ipykernel)",
   "language": "python",
   "name": "python3"
  },
  "language_info": {
   "codemirror_mode": {
    "name": "ipython",
    "version": 3
   },
   "file_extension": ".py",
   "mimetype": "text/x-python",
   "name": "python",
   "nbconvert_exporter": "python",
   "pygments_lexer": "ipython3",
   "version": "3.11.0"
  }
 },
 "nbformat": 4,
 "nbformat_minor": 5
}
