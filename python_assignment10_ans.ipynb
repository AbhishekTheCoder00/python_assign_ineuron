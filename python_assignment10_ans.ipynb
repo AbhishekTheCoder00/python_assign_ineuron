{
 "cells": [
  {
   "cell_type": "markdown",
   "id": "3ac4b85e-de93-4b52-9e30-a0f0636e845c",
   "metadata": {
    "tags": []
   },
   "source": [
    "Python Basic Programming Assignment 10"
   ]
  },
  {
   "cell_type": "markdown",
   "id": "b7128563-a864-4810-a183-3d1b7b2c4564",
   "metadata": {},
   "source": [
    "1. Write a Python program to find sum of elements in list?"
   ]
  },
  {
   "cell_type": "code",
   "execution_count": 6,
   "id": "7e0fe281-f470-4797-9b40-67c47bd42966",
   "metadata": {
    "tags": []
   },
   "outputs": [
    {
     "name": "stdout",
     "output_type": "stream",
     "text": [
      "130\n"
     ]
    }
   ],
   "source": [
    "list = [5,6,9,5,8,1,2,3,6,85]\n",
    "result=0\n",
    "for i in list:\n",
    "    result+=i\n",
    "print(result)"
   ]
  },
  {
   "cell_type": "markdown",
   "id": "9d46e39c-3600-464e-b70b-064f5efe999d",
   "metadata": {},
   "source": [
    "2. Write a Python program to Multiply all numbers in the list?"
   ]
  },
  {
   "cell_type": "code",
   "execution_count": 8,
   "id": "825a1d73-788f-426a-afe4-95ff19d0e8f4",
   "metadata": {
    "tags": []
   },
   "outputs": [
    {
     "name": "stdout",
     "output_type": "stream",
     "text": [
      "178560\n"
     ]
    }
   ],
   "source": [
    "list=[62,2,3,15,32]\n",
    "result=1\n",
    "for i in list:\n",
    "    result*=i\n",
    "print(result)"
   ]
  },
  {
   "cell_type": "markdown",
   "id": "b77ba685-1a57-41e6-aadb-502860fd21a1",
   "metadata": {
    "tags": []
   },
   "source": [
    "3. Write a Python program to find smallest number in a list?"
   ]
  },
  {
   "cell_type": "code",
   "execution_count": 9,
   "id": "9f5800be-c995-4469-8236-05ba72974c7f",
   "metadata": {
    "tags": []
   },
   "outputs": [
    {
     "name": "stdout",
     "output_type": "stream",
     "text": [
      "7\n"
     ]
    }
   ],
   "source": [
    "list = [32,546,7,55,65,765,76]\n",
    "\n",
    "min = list[0]\n",
    "for i in list:\n",
    "    if i < min:\n",
    "        min = i\n",
    "        \n",
    "print(min)"
   ]
  },
  {
   "cell_type": "markdown",
   "id": "b7d9243e-0955-43e4-b467-cb6f0aeb2eb1",
   "metadata": {},
   "source": [
    "4. Write a Python program to find largest number in a list?"
   ]
  },
  {
   "cell_type": "code",
   "execution_count": 10,
   "id": "a9957e76-8a49-4917-a730-a5f22354605a",
   "metadata": {
    "tags": []
   },
   "outputs": [
    {
     "name": "stdout",
     "output_type": "stream",
     "text": [
      "765\n"
     ]
    }
   ],
   "source": [
    "list = [32,546,7,55,65,765,76]\n",
    "\n",
    "max = list[0]\n",
    "for i in list:\n",
    "    if i > max:\n",
    "        max = i\n",
    "        \n",
    "print(max)"
   ]
  },
  {
   "cell_type": "markdown",
   "id": "c517d473-e6c4-4a60-bc5a-336a87505de5",
   "metadata": {},
   "source": [
    "5. Write a Python program to find second largest number in a list?"
   ]
  },
  {
   "cell_type": "code",
   "execution_count": 11,
   "id": "9ec5cdde-fda3-48b7-aa91-2846416c56a4",
   "metadata": {
    "tags": []
   },
   "outputs": [
    {
     "name": "stdout",
     "output_type": "stream",
     "text": [
      "65\n"
     ]
    }
   ],
   "source": [
    "list=[321,65,132,156,18,98]\n",
    "list.sort()\n",
    "print(list[1])"
   ]
  },
  {
   "cell_type": "markdown",
   "id": "9edf977a-6bcb-4685-a65b-4fffc597b6b0",
   "metadata": {},
   "source": [
    "6. Write a Python program to find N largest elements from a list?"
   ]
  },
  {
   "cell_type": "code",
   "execution_count": 14,
   "id": "e82b8585-b8a9-4239-b6a2-373629e54275",
   "metadata": {
    "tags": []
   },
   "outputs": [
    {
     "data": {
      "text/plain": [
       "834"
      ]
     },
     "execution_count": 14,
     "metadata": {},
     "output_type": "execute_result"
    }
   ],
   "source": [
    "def findLarge(list, n):    \n",
    "    list.sort(reverse = True)\n",
    "    return list[n-1]\n",
    "\n",
    "list = [43,67,7665,6787,657,98,1234,834]\n",
    "findLarge(list, 4)"
   ]
  },
  {
   "cell_type": "markdown",
   "id": "b29302f1-7538-404e-8423-00300c5db85a",
   "metadata": {},
   "source": [
    "7. Write a Python program to print even numbers in a list?"
   ]
  },
  {
   "cell_type": "code",
   "execution_count": 17,
   "id": "2ab27962-42d5-4730-be54-e2b3a994076b",
   "metadata": {
    "tags": []
   },
   "outputs": [
    {
     "name": "stdout",
     "output_type": "stream",
     "text": [
      "[1968, 68, 32, 46, 94, 2324]\n"
     ]
    }
   ],
   "source": [
    "list = [6151,1968,68,65,979,13,32,46,94,2324]\n",
    "result = []\n",
    "\n",
    "for i in list:\n",
    "    if(i%2==0):\n",
    "        result.append(i)\n",
    "\n",
    "print(result)"
   ]
  },
  {
   "cell_type": "markdown",
   "id": "db6a08ff-0517-4c7a-9815-c0ba49c53451",
   "metadata": {},
   "source": [
    "8. Write a Python program to print odd numbers in a List?"
   ]
  },
  {
   "cell_type": "code",
   "execution_count": 18,
   "id": "bfdeab40-7fcb-432d-97b0-2849b1b2996a",
   "metadata": {
    "tags": []
   },
   "outputs": [
    {
     "name": "stdout",
     "output_type": "stream",
     "text": [
      "[6151, 65, 979, 13]\n"
     ]
    }
   ],
   "source": [
    "list = [6151,1968,68,65,979,13,32,46,94,2324]\n",
    "result = []\n",
    "\n",
    "for i in list:\n",
    "    if(i%2!=0):\n",
    "        result.append(i)\n",
    "\n",
    "print(result)"
   ]
  },
  {
   "cell_type": "markdown",
   "id": "42a84fee-2665-4542-a5f1-2ad364c222cb",
   "metadata": {},
   "source": [
    "9. Write a Python program to Remove empty List from List?"
   ]
  },
  {
   "cell_type": "code",
   "execution_count": 19,
   "id": "3a291061-4048-4483-bf3a-7a5fd1fdefd1",
   "metadata": {
    "tags": []
   },
   "outputs": [
    {
     "name": "stdout",
     "output_type": "stream",
     "text": [
      "Original List: [1, [], [3, 4], 5, [], [], [6], 7, []]\n",
      "List after removing empty lists: [1, [3, 4], 5, [6], 7]\n"
     ]
    }
   ],
   "source": [
    "original_list = [1, [], [3, 4], 5, [], [], [6], 7, []]\n",
    "\n",
    "filtered_list = [lst for lst in original_list if lst]\n",
    "\n",
    "print(\"Original List:\", original_list)\n",
    "print(\"List after removing empty lists:\", filtered_list)\n"
   ]
  },
  {
   "cell_type": "markdown",
   "id": "d7a86964-117d-4151-a461-0d87a1922d95",
   "metadata": {},
   "source": [
    "10. Write a Python program to Cloning or Copying a list?"
   ]
  },
  {
   "cell_type": "code",
   "execution_count": 21,
   "id": "a553bdc0-b0b5-40bf-aef8-0b89ecf723ab",
   "metadata": {
    "tags": []
   },
   "outputs": [
    {
     "name": "stdout",
     "output_type": "stream",
     "text": [
      "Original List: [1, 2, 3, 4, 5]\n",
      "Copied List: [1, 2, 3, 4, 5]\n"
     ]
    }
   ],
   "source": [
    "original_list = [1, 2, 3, 4, 5]\n",
    "copied_list = original_list[:]  # Creates a shallow copy of the original list\n",
    "\n",
    "print(\"Original List:\", original_list)\n",
    "print(\"Copied List:\", copied_list)"
   ]
  },
  {
   "cell_type": "markdown",
   "id": "9f2522b3-e015-4160-826c-773bb257655f",
   "metadata": {},
   "source": [
    "11. Write a Python program to Count occurrences of an element in a list?"
   ]
  },
  {
   "cell_type": "code",
   "execution_count": 22,
   "id": "c2491fc2-5a67-4c6c-900b-9b5969343cc9",
   "metadata": {
    "tags": []
   },
   "outputs": [
    {
     "name": "stdout",
     "output_type": "stream",
     "text": [
      "The element 2 appears 3 times in the list.\n"
     ]
    }
   ],
   "source": [
    "def count_occurrences(lst, element):\n",
    "    return lst.count(element)\n",
    "\n",
    "my_list = [1, 2, 3, 4, 2, 5, 2]\n",
    "element_to_count = 2\n",
    "occurrences = count_occurrences(my_list, element_to_count)\n",
    "\n",
    "print(f\"The element {element_to_count} appears {occurrences} times in the list.\")\n"
   ]
  },
  {
   "cell_type": "code",
   "execution_count": null,
   "id": "a2647076-d930-4ab0-bd9c-49e98d56156d",
   "metadata": {},
   "outputs": [],
   "source": []
  }
 ],
 "metadata": {
  "kernelspec": {
   "display_name": "Python 3 (ipykernel)",
   "language": "python",
   "name": "python3"
  },
  "language_info": {
   "codemirror_mode": {
    "name": "ipython",
    "version": 3
   },
   "file_extension": ".py",
   "mimetype": "text/x-python",
   "name": "python",
   "nbconvert_exporter": "python",
   "pygments_lexer": "ipython3",
   "version": "3.11.0"
  }
 },
 "nbformat": 4,
 "nbformat_minor": 5
}
