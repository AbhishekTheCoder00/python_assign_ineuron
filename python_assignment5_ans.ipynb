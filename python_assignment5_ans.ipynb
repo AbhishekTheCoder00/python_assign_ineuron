{
 "cells": [
  {
   "cell_type": "markdown",
   "id": "51d9157a-d715-4570-9379-c44116726e35",
   "metadata": {},
   "source": [
    "Python Basic Programming Assignment - 5"
   ]
  },
  {
   "cell_type": "markdown",
   "id": "178c4241-edb3-4ab5-878a-448e76f9f516",
   "metadata": {},
   "source": [
    "1. Write a Python Program to Find LCM?"
   ]
  },
  {
   "cell_type": "code",
   "execution_count": 1,
   "id": "664b87f4-b0f7-43ac-9c97-08194c95fe04",
   "metadata": {
    "tags": []
   },
   "outputs": [
    {
     "name": "stdin",
     "output_type": "stream",
     "text": [
      "Enter the first number:  96\n",
      "Enter the second number:  4\n"
     ]
    },
    {
     "name": "stdout",
     "output_type": "stream",
     "text": [
      "The LCM of 96 and 4 is 96\n"
     ]
    }
   ],
   "source": [
    "def lcm(a, b):\n",
    "\n",
    "  if a == 0 or b == 0:\n",
    "    return 0\n",
    "\n",
    "  lcm = 1\n",
    "  while not (lcm % a == 0 and lcm % b == 0):\n",
    "    lcm += 1\n",
    "\n",
    "  return lcm\n",
    "\n",
    "\n",
    "if __name__ == \"__main__\":\n",
    "  a = int(input(\"Enter the first number: \"))\n",
    "  b = int(input(\"Enter the second number: \"))\n",
    "\n",
    "  lcm = lcm(a, b)\n",
    "  print(\"The LCM of {} and {} is {}\".format(a, b, lcm))"
   ]
  },
  {
   "cell_type": "markdown",
   "id": "2861f879-ef34-4840-a9e4-5eef1b88d291",
   "metadata": {},
   "source": [
    "2. Write a Python Program to Find HCF?"
   ]
  },
  {
   "cell_type": "code",
   "execution_count": 2,
   "id": "e6e63dfb-4ce7-42ee-ba3a-5a45fdec164c",
   "metadata": {},
   "outputs": [
    {
     "name": "stdin",
     "output_type": "stream",
     "text": [
      "Enter the first number:  125\n",
      "Enter the second number:  25\n"
     ]
    },
    {
     "name": "stdout",
     "output_type": "stream",
     "text": [
      "The HCF of 125 and 25 is 25\n"
     ]
    }
   ],
   "source": [
    "def hcf(a, b):\n",
    "\n",
    "  if a == 0 or b == 0:\n",
    "    return 0\n",
    "\n",
    "  while b != 0:\n",
    "    a, b = b, a % b\n",
    "\n",
    "  return a\n",
    "\n",
    "\n",
    "if __name__ == \"__main__\":\n",
    "  a = int(input(\"Enter the first number: \"))\n",
    "  b = int(input(\"Enter the second number: \"))\n",
    "\n",
    "  hcf = hcf(a, b)\n",
    "  print(\"The HCF of {} and {} is {}\".format(a, b, hcf))"
   ]
  },
  {
   "cell_type": "markdown",
   "id": "b2c273fe-4db9-4983-971d-e5985adc2b6a",
   "metadata": {},
   "source": [
    "3. Write a Python Program to Convert Decimal to Binary, Octal and Hexadecimal?"
   ]
  },
  {
   "cell_type": "code",
   "execution_count": 4,
   "id": "6dcd4cfc-20a0-41f1-8cdd-baa629899ef1",
   "metadata": {
    "tags": []
   },
   "outputs": [
    {
     "name": "stdin",
     "output_type": "stream",
     "text": [
      "Enter the number:  10\n"
     ]
    },
    {
     "name": "stdout",
     "output_type": "stream",
     "text": [
      "0b1010 is binary num\n",
      "0o12 is Octal num\n",
      "0xa is Hexadecimal num\n"
     ]
    }
   ],
   "source": [
    "num = int(input(\"Enter the number: \"))\n",
    "\n",
    "print(bin(num), \"is binary num\")\n",
    "print(oct(num), \"is Octal num\")\n",
    "print(hex(num), \"is Hexadecimal num\")"
   ]
  },
  {
   "cell_type": "markdown",
   "id": "f38b14e0-5342-486b-9db7-a90f2329abb7",
   "metadata": {},
   "source": [
    "4. Write a Python Program To Find ASCII value of a character?"
   ]
  },
  {
   "cell_type": "code",
   "execution_count": 8,
   "id": "ce600a1e-42c5-48c6-8b23-2eb6dce87767",
   "metadata": {
    "tags": []
   },
   "outputs": [
    {
     "name": "stdin",
     "output_type": "stream",
     "text": [
      "Enter the number: i\n"
     ]
    },
    {
     "name": "stdout",
     "output_type": "stream",
     "text": [
      "The value of i  ASCII value is: 105\n"
     ]
    }
   ],
   "source": [
    "c = input(\"Enter the number:\")\n",
    "print(\"The value of\",c,\" ASCII value is:\", ord(c))"
   ]
  },
  {
   "cell_type": "markdown",
   "id": "9de3182a-1ba1-46a2-9437-8606284e792a",
   "metadata": {},
   "source": [
    "5. Write a Python Program to Make a Simple Calculator with 4 basic mathematical operations?"
   ]
  },
  {
   "cell_type": "code",
   "execution_count": 13,
   "id": "6bbed708-ef98-4796-84ec-1e92f2080fa8",
   "metadata": {
    "tags": []
   },
   "outputs": [
    {
     "name": "stdin",
     "output_type": "stream",
     "text": [
      "Enter the first number: 60\n",
      "Enter the Second number: 20\n"
     ]
    },
    {
     "name": "stdout",
     "output_type": "stream",
     "text": [
      "Select operation:\n",
      "1. Add\n",
      "2. Subtract\n",
      "3. Multiply\n",
      "4. Divide\n"
     ]
    },
    {
     "name": "stdin",
     "output_type": "stream",
     "text": [
      "Enter your choice of opration(1/2/3/4): 4\n"
     ]
    },
    {
     "name": "stdout",
     "output_type": "stream",
     "text": [
      "60 / 20 = 3.0\n"
     ]
    }
   ],
   "source": [
    "def add(x,y):\n",
    "    return x+y\n",
    "\n",
    "def subtract(x,y):\n",
    "    return x-y\n",
    "\n",
    "def mutiply(x,y):\n",
    "    return x*y\n",
    "\n",
    "def divide(x,y):\n",
    "    if y!=0:\n",
    "        return x/y\n",
    "    else:\n",
    "        return \"cannot divide it by zero\"\n",
    "    \n",
    "\n",
    "num1 = int(input(\"Enter the first number:\"))\n",
    "num2 = int(input(\"Enter the Second number:\"))\n",
    "\n",
    "print(\"Select operation:\")\n",
    "print(\"1. Add\")\n",
    "print(\"2. Subtract\")\n",
    "print(\"3. Multiply\")\n",
    "print(\"4. Divide\")\n",
    "\n",
    "choice = input(\"Enter your choice of opration(1/2/3/4):\")\n",
    "\n",
    "\n",
    "if choice == '1':\n",
    "    print(num1,\"+\",num2,\"=\",add(num1,num2))\n",
    "elif choice == '2':\n",
    "    print(num1,\"-\",num2,\"=\",subtract(num1,num2))\n",
    "elif choice == '3':\n",
    "    print(num1,\"*\",num2,\"=\",mutiply(num1,num2))\n",
    "elif choice == '4':\n",
    "    print(num1,\"/\",num2,\"=\",divide(num1,num2))\n",
    "\n",
    "\n",
    "\n",
    "\n",
    "\n"
   ]
  },
  {
   "cell_type": "code",
   "execution_count": null,
   "id": "7f37be0c-5746-4412-8dad-46cd52d007d6",
   "metadata": {},
   "outputs": [],
   "source": []
  }
 ],
 "metadata": {
  "kernelspec": {
   "display_name": "Python 3 (ipykernel)",
   "language": "python",
   "name": "python3"
  },
  "language_info": {
   "codemirror_mode": {
    "name": "ipython",
    "version": 3
   },
   "file_extension": ".py",
   "mimetype": "text/x-python",
   "name": "python",
   "nbconvert_exporter": "python",
   "pygments_lexer": "ipython3",
   "version": "3.11.0"
  }
 },
 "nbformat": 4,
 "nbformat_minor": 5
}
