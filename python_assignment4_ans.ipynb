{
 "cells": [
  {
   "cell_type": "markdown",
   "id": "f44546b9-6a71-47bd-9594-ffc2d60c9389",
   "metadata": {},
   "source": [
    "Programming Assignment_4 solution"
   ]
  },
  {
   "cell_type": "markdown",
   "id": "05bbbc85-3f3b-4809-bdfa-7f4f771d6a1d",
   "metadata": {},
   "source": [
    "1. Write a Python Program to Find the Factorial of a Number?"
   ]
  },
  {
   "cell_type": "code",
   "execution_count": 22,
   "id": "7c4779ce-a446-4d4d-a0f4-dfe082abb133",
   "metadata": {
    "tags": []
   },
   "outputs": [
    {
     "name": "stdin",
     "output_type": "stream",
     "text": [
      "Enter your number:  7\n"
     ]
    },
    {
     "name": "stdout",
     "output_type": "stream",
     "text": [
      "Factorial of 7 is: 5040\n"
     ]
    }
   ],
   "source": [
    "num = int(input(\"Enter your number: \"))\n",
    "fact = 1\n",
    "for i in range(num, 0, -1):\n",
    "    fact = fact*i\n",
    "print(\"Factorial of\", num, \"is:\", fact)"
   ]
  },
  {
   "cell_type": "markdown",
   "id": "2a81b072-9bf0-4360-b8d5-7392619c143d",
   "metadata": {},
   "source": [
    "2. Write a Python Program to Display the multiplication Table?m"
   ]
  },
  {
   "cell_type": "code",
   "execution_count": 20,
   "id": "676ede82-26f7-40b3-9697-25c809740496",
   "metadata": {
    "tags": []
   },
   "outputs": [
    {
     "name": "stdin",
     "output_type": "stream",
     "text": [
      "Enter Your Number: 5\n"
     ]
    },
    {
     "name": "stdout",
     "output_type": "stream",
     "text": [
      "5 X 1 = 5\n",
      "5 X 2 = 10\n",
      "5 X 3 = 15\n",
      "5 X 4 = 20\n",
      "5 X 5 = 25\n",
      "5 X 6 = 30\n",
      "5 X 7 = 35\n",
      "5 X 8 = 40\n",
      "5 X 9 = 45\n",
      "5 X 10 = 50\n"
     ]
    }
   ],
   "source": [
    "num = int(input(\"Enter Your Number:\"))\n",
    "\n",
    "for i in range(1,11):\n",
    "    result = num * i\n",
    "    print(num,\"X\",i,\"=\",result)"
   ]
  },
  {
   "cell_type": "markdown",
   "id": "8e50cd56-2f25-410f-b157-a24e9153cdb8",
   "metadata": {},
   "source": [
    "3. Write a Python Program to Print the Fibonacci sequence?\n",
    "\n"
   ]
  },
  {
   "cell_type": "code",
   "execution_count": 29,
   "id": "a9e360db-b198-4b40-95b6-106879f42302",
   "metadata": {
    "tags": []
   },
   "outputs": [
    {
     "name": "stdin",
     "output_type": "stream",
     "text": [
      "Enter your number: 5\n"
     ]
    },
    {
     "name": "stdout",
     "output_type": "stream",
     "text": [
      "Fibonacci sequence:\n",
      "0 1 1 2 3 "
     ]
    }
   ],
   "source": [
    "num = int(input(\"Enter your number:\"))\n",
    "first_term = 0\n",
    "second_term = 1\n",
    "\n",
    "print(\"Fibonacci sequence:\")\n",
    "for i in range(num):\n",
    "    print(first_term, end=\" \")\n",
    "    next_term = first_term + second_term\n",
    "    first_term, second_term = second_term, next_term\n",
    "    "
   ]
  },
  {
   "cell_type": "markdown",
   "id": "8c833e4a-565e-41e6-ae86-12df44c82360",
   "metadata": {},
   "source": [
    "\n",
    "4 Write a Python Program to Check Armstrong Number?"
   ]
  },
  {
   "cell_type": "code",
   "execution_count": 30,
   "id": "57d55240-2793-4845-816e-55f1bfec6373",
   "metadata": {
    "tags": []
   },
   "outputs": [
    {
     "name": "stdin",
     "output_type": "stream",
     "text": [
      "Enter a number:  153\n"
     ]
    },
    {
     "name": "stdout",
     "output_type": "stream",
     "text": [
      "153 is an Armstrong number.\n"
     ]
    }
   ],
   "source": [
    "num = int(input(\"Enter a number: \"))\n",
    "num_str = str(num)\n",
    "num_digits = len(num_str)\n",
    "sum_of_digits = sum(int(digit) ** num_digits for digit in num_str)\n",
    "\n",
    "if num == sum_of_digits:\n",
    "    print(num, \"is an Armstrong number.\")\n",
    "else:\n",
    "    print(num, \"is not an Armstrong number.\")"
   ]
  },
  {
   "cell_type": "markdown",
   "id": "0c7e6359-caa0-4bdb-89da-249ecae32f20",
   "metadata": {},
   "source": [
    "5. Write a Python Program to Find Armstrong Number in an Interval?"
   ]
  },
  {
   "cell_type": "code",
   "execution_count": 31,
   "id": "b7b16ada-9102-4ccc-bbb4-21df80e86cd5",
   "metadata": {
    "tags": []
   },
   "outputs": [
    {
     "name": "stdin",
     "output_type": "stream",
     "text": [
      "Enter the start of the interval:  10\n",
      "Enter the end of the interval:  1000\n"
     ]
    },
    {
     "name": "stdout",
     "output_type": "stream",
     "text": [
      "Armstrong numbers in the interval 10 to 1000 :\n",
      "153 370 371 407 "
     ]
    }
   ],
   "source": [
    "def is_armstrong_number(number):\n",
    "    num_str = str(number)\n",
    "    num_digits = len(num_str)\n",
    "    sum_of_digits = sum(int(digit) ** num_digits for digit in num_str)\n",
    "    return number == sum_of_digits\n",
    "\n",
    "start = int(input(\"Enter the start of the interval: \"))\n",
    "end = int(input(\"Enter the end of the interval: \"))\n",
    "\n",
    "print(\"Armstrong numbers in the interval\", start, \"to\", end, \":\")\n",
    "for num in range(start, end + 1):\n",
    "    if is_armstrong_number(num):\n",
    "        print(num, end=' ')\n"
   ]
  },
  {
   "cell_type": "markdown",
   "id": "8ffbdba2-44da-464a-9ede-ffff44ae08da",
   "metadata": {},
   "source": [
    "6. Write a Python Program to Find the Sum of Natural Numbers?"
   ]
  },
  {
   "cell_type": "code",
   "execution_count": 37,
   "id": "ea71afa0-34ba-48d3-a4d1-f625dfdb21c6",
   "metadata": {
    "tags": []
   },
   "outputs": [
    {
     "name": "stdin",
     "output_type": "stream",
     "text": [
      "Enter your number:  10\n"
     ]
    },
    {
     "name": "stdout",
     "output_type": "stream",
     "text": [
      "Sum of natural numbers up to 10 is: 55\n"
     ]
    }
   ],
   "source": [
    "num = int(input(\"Enter your number: \"))\n",
    "result=0\n",
    "for i in range(1,num+1):\n",
    "    result+=i\n",
    "\n",
    "print(\"Sum of natural numbers up to\", num, \"is:\", result)"
   ]
  },
  {
   "cell_type": "code",
   "execution_count": null,
   "id": "9d78c39d-991c-4fd3-abc7-917b6cb75c84",
   "metadata": {},
   "outputs": [],
   "source": []
  }
 ],
 "metadata": {
  "kernelspec": {
   "display_name": "Python 3 (ipykernel)",
   "language": "python",
   "name": "python3"
  },
  "language_info": {
   "codemirror_mode": {
    "name": "ipython",
    "version": 3
   },
   "file_extension": ".py",
   "mimetype": "text/x-python",
   "name": "python",
   "nbconvert_exporter": "python",
   "pygments_lexer": "ipython3",
   "version": "3.11.0"
  }
 },
 "nbformat": 4,
 "nbformat_minor": 5
}
